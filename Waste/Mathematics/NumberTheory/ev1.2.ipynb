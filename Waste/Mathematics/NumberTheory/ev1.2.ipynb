{
 "cells": [
  {
   "cell_type": "markdown",
   "metadata": {},
   "source": [
    "#### <font color='green'> I heard a formula which says lim(x => infinity)[(The least common factor of 1 to n) ** 1/n] = e </font>"
   ]
  },
  {
   "cell_type": "code",
   "execution_count": null,
   "metadata": {},
   "outputs": [],
   "source": [
    "import matplotlib.pyplot as plt\n",
    "import numpy as np\n",
    "from Simple.TLCM import list_past, TLCM\n",
    "import decimal as d\n",
    "from IPython.utils import io"
   ]
  },
  {
   "cell_type": "code",
   "execution_count": null,
   "metadata": {},
   "outputs": [],
   "source": [
    "times = int(input(\"What do you like the value of n be?\"))\n",
    "tlcm = 1\n",
    "x = list(range(1, times+1))\n",
    "y = []\n",
    "precent = 100/times  \n",
    "\n",
    "for i in x:\n",
    "    with io.capture_output() as captured:\n",
    "        tlcm = TLCM([tlcm, i])\n",
    "        tlcml = d.Decimal(tlcm) ** d.Decimal(1/i)\n",
    "        y.append(tlcml)\n",
    "    print(f'Evaluating in  number {i}; almost {(precent * i):.2f}% numbers are done.')"
   ]
  },
  {
   "cell_type": "code",
   "execution_count": null,
   "metadata": {},
   "outputs": [],
   "source": [
    "%matplotlib inline\n",
    "\n",
    "plt.plot(x, y, color=\"r\", label=\"TLCM\")\n",
    "plt.scatter(x, y, marker=\"x\", color=\"k\", label=\"TLCM real values\", s=5)\n",
    "plt.axvline(x=0)\n",
    "plt.axhline(y=0)\n",
    "plt.axhline(y=np.exp(1), color=\"b\", label=\"Number e\")\n",
    "\n",
    "plt.title(\"lim(n => infinity)[(The least common multipler of 1 to n) ** 1/n] = e\")\n",
    "plt.legend()\n",
    "plt.show()"
   ]
  }
 ],
 "metadata": {
  "kernelspec": {
   "display_name": "Python 3",
   "language": "python",
   "name": "python3"
  },
  "language_info": {
   "codemirror_mode": {
    "name": "ipython",
    "version": 3
   },
   "file_extension": ".py",
   "mimetype": "text/x-python",
   "name": "python",
   "nbconvert_exporter": "python",
   "pygments_lexer": "ipython3",
   "version": "3.7.4"
  }
 },
 "nbformat": 4,
 "nbformat_minor": 2
}
